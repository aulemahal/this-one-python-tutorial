{
 "cells": [
  {
   "cell_type": "markdown",
   "metadata": {},
   "source": [
    "# Atmospheric* Data Science Workshops\n",
    "<div style=\"text-align: right\"> *and oceanic </div>\n",
    "\n",
    "## Python : xArray and multidimensionnal gridded data\n",
    "\n",
    "Pascal Bourgault, 05-04-2019\n",
    "\n",
    "\n",
    "In this workshop we will use `xArray` and friends to read, analyse, plot and write multidimensionnal gridded data.\n",
    "\n",
    "- `xArray` is built on `Pandas`, a lot of the functionalities are similar and use similar syntax.\n",
    "- It is coded to follow the [CF conventions](http://cfconventions.org/), the same that define de `netCDF` format, making fully compatible with `nc` files.\n",
    "- We can already read `netCDF` files to `numpy` arrays through  `scipy` or `netCDF4`, but `xArray` unleashes Python's power and blends in with `matplotlib` and `pandas` to offer a **perfect** data exploration tool for the natural sciences.\n",
    "\n",
    "`xArray` doesn't come with the default anaconda distribution, we install it first! I reccommend using the anaconda navigator or a terminal, but you can run the following line if you feel adventurous:"
   ]
  },
  {
   "cell_type": "code",
   "execution_count": null,
   "metadata": {},
   "outputs": [],
   "source": [
    "#!conda install xarray"
   ]
  },
  {
   "cell_type": "markdown",
   "metadata": {},
   "source": [
    "Now we can import what we will need for the first part:"
   ]
  },
  {
   "cell_type": "code",
   "execution_count": null,
   "metadata": {},
   "outputs": [],
   "source": [
    "import xarray as xr\n",
    "import numpy as np\n",
    "import matplotlib.pyplot as plt"
   ]
  },
  {
   "cell_type": "markdown",
   "metadata": {},
   "source": [
    "### Opening and selecting"
   ]
  },
  {
   "cell_type": "code",
   "execution_count": null,
   "metadata": {},
   "outputs": [],
   "source": [
    "data = xr.open_dataset('DurackandWijffels_GlobalOceanChanges_1950-2000.nc')"
   ]
  },
  {
   "cell_type": "markdown",
   "metadata": {},
   "source": [
    "`xArray` mainly uses two objects : `DataArray` and `Dataset`.\n",
    "\n",
    " - A `DataArray` is a named N-D array with named axes or *dimensions* that can have values, making them *coordinates*.\n",
    " - A `Dataset` contains many `DataArray` instances. If a `DataArray` as only one dimension, it can be promoted to a coordinate. \n",
    " By default, a `DataArray` with the same name as its dimension is automatically promoted to coordinate.\n",
    "\n",
    " - Both can have any number of *attributes*. The CF conventions regulate some of them. Most important for us are : `units` and `long_name` (or `standard_name` if the latter is absent)."
   ]
  },
  {
   "cell_type": "code",
   "execution_count": null,
   "metadata": {},
   "outputs": [],
   "source": [
    "data"
   ]
  },
  {
   "cell_type": "code",
   "execution_count": null,
   "metadata": {},
   "outputs": [],
   "source": [
    "data['thetao_change']"
   ]
  },
  {
   "cell_type": "code",
   "execution_count": null,
   "metadata": {},
   "outputs": [],
   "source": [
    "data.depth"
   ]
  },
  {
   "cell_type": "markdown",
   "metadata": {},
   "source": [
    "The values are stored as a numpy array:"
   ]
  },
  {
   "cell_type": "code",
   "execution_count": null,
   "metadata": {},
   "outputs": [],
   "source": [
    "# data.thetao_change.values\n",
    "data.latitude.values"
   ]
  },
  {
   "cell_type": "markdown",
   "metadata": {},
   "source": [
    "The attributes are stored in an *ordered* dictionary, so we can modify them as we would a dict!"
   ]
  },
  {
   "cell_type": "code",
   "execution_count": null,
   "metadata": {},
   "outputs": [],
   "source": [
    "data.latitude.attrs['units'] = '°N'  # By the bracket-getter\n",
    "data.longitude.attrs.update(units='°W') # My favorite : by the update() method.\n",
    "data.latitude"
   ]
  },
  {
   "cell_type": "markdown",
   "metadata": {},
   "source": [
    "Most of the data exploration can be done in one-liners. First useful functions `.sel()` and `.isel()` to select data based on the coordinates *or* the indexes."
   ]
  },
  {
   "cell_type": "code",
   "execution_count": null,
   "metadata": {},
   "outputs": [],
   "source": [
    "# We can use keywords with lists, scalars or slices\n",
    "data.thetao_change.sel(depth=[20, 60], longitude=200, latitude=slice(-10.5, 10.5))"
   ]
  },
  {
   "cell_type": "code",
   "execution_count": null,
   "metadata": {},
   "outputs": [],
   "source": [
    "# Or a dictionary. Here with isel, that takes indices\n",
    "data.thetao_change.isel({'depth': [3, 7], \n",
    "                         'longitude': 100, \n",
    "                         'latitude':slice(60, 81)})\n",
    "# this is equivalent to\n",
    "#data.thetao_change[:, [3, 7], 60:81, 100]"
   ]
  },
  {
   "cell_type": "code",
   "execution_count": null,
   "metadata": {},
   "outputs": [],
   "source": [
    "# Even with approximate values!\n",
    "data.thetao_change.sel(depth=0.1, latitude=-10.5, longitude=199.5, method='nearest') "
   ]
  },
  {
   "cell_type": "code",
   "execution_count": null,
   "metadata": {},
   "outputs": [],
   "source": [
    "# Or by criteria\n",
    "data.thetao_change.where((data.depth < 30) & (data.latitude == -10), drop=True)"
   ]
  },
  {
   "cell_type": "markdown",
   "metadata": {},
   "source": [
    "### Simple plotting\n",
    "\n",
    "With the help of the `.plot()` function, visualisation of data has never been this easy!"
   ]
  },
  {
   "cell_type": "code",
   "execution_count": null,
   "metadata": {},
   "outputs": [],
   "source": [
    "data.thetao_change.sel(depth=0).plot()"
   ]
  },
  {
   "cell_type": "markdown",
   "metadata": {},
   "source": [
    "`.plot()` automatically chooses the plot type based on the number dimensions. \n",
    "\n",
    " - 2D -> polormesh\n",
    " - 1D -> lines\n",
    " - ND -> histogram\n",
    " \n",
    " But you can access other types (contour, imshow, step).\n",
    " \n",
    " Most of the plot control is done through keywords.\n",
    " \n",
    "The colormaps can be changed. By default, xarray checks if 0 is in the value range, if it is, it uses the Red-Blue divergent colormap, if not, the default sequential viridis.\n",
    "\n",
    "To see the low details more, we can cut out the extreme values:"
   ]
  },
  {
   "cell_type": "code",
   "execution_count": null,
   "metadata": {},
   "outputs": [],
   "source": [
    "fig = plt.figure(figsize=(12, 5)) # Create an empty figure so we can choose it's size\n",
    "data.thetao_change.sel(depth=0).plot(robust=True, cmap=plt.cm.BrBG)\n",
    "data.salinity_change.isel(depth=0, time=0).plot.contour(robust=True, colors='k')\n",
    "plt.gca().set_facecolor('lightgrey')"
   ]
  },
  {
   "cell_type": "markdown",
   "metadata": {},
   "source": [
    "Multiple faces can be shown at the same time using `x`, `y`, `col` and/or `row`."
   ]
  },
  {
   "cell_type": "code",
   "execution_count": null,
   "metadata": {},
   "outputs": [],
   "source": [
    "data.salinity_mean.sel(longitude=[200, 340]).plot(robust=True, col='longitude', y='depth', yincrease=False, aspect=2)"
   ]
  },
  {
   "cell_type": "markdown",
   "metadata": {},
   "source": [
    "Same story with line plots and `hue`:"
   ]
  },
  {
   "cell_type": "code",
   "execution_count": null,
   "metadata": {},
   "outputs": [],
   "source": [
    "data.thetao_change.sel(depth=[0, 200, 1000], longitude=[80, 200, 340]).plot(col='longitude', hue='depth')"
   ]
  },
  {
   "cell_type": "markdown",
   "metadata": {},
   "source": [
    "Look at how it uses the `units` and `long_name` attributes of the `DataArray`s. We can modify them to have better labels. Or change the labels directly, using `matplotlib.pyplot`'s functions."
   ]
  },
  {
   "cell_type": "code",
   "execution_count": null,
   "metadata": {},
   "outputs": [],
   "source": [
    "data.depth.attrs.update(units='db', long_name='Pressure')\n",
    "data.thetao_change.attrs.update(units='°C')\n",
    "\n",
    "fig, ax = plt.subplots()  # Create an empty fig with 1 axis\n",
    "\n",
    "data.thetao_change.sel(longitude=200, latitude=np.arange(-60, 61, 30)).plot(y='depth', hue='latitude', yincrease=False, ax=ax)\n",
    "\n",
    "ax.set_title(r'$\\Delta\\theta(z)$ 1950-2000 in the Pacific Ocean')"
   ]
  },
  {
   "cell_type": "markdown",
   "metadata": {},
   "source": [
    "### Array operations\n",
    "\n",
    "As with pandas, we can do most default numpy operations on the arrays. Instead of using `axis` like in numpy, we can use the powerful dimension syntax.\n",
    "\n",
    "Notice how, xarray *always* returns a `DataArray`, even with only one point."
   ]
  },
  {
   "cell_type": "code",
   "execution_count": null,
   "metadata": {},
   "outputs": [],
   "source": [
    "data.salinity_change.sel(latitude=np.arange(-60, 61, 30)).mean('longitude').plot(y='depth', hue='latitude', yincrease=False)"
   ]
  },
  {
   "cell_type": "markdown",
   "metadata": {},
   "source": [
    "Also powerful, the possibility to group values in bins :"
   ]
  },
  {
   "cell_type": "code",
   "execution_count": null,
   "metadata": {},
   "outputs": [],
   "source": [
    "data.salinity_change.sel(depth=[0, 20, 200]).groupby_bins('latitude', 10).mean(['latitude', 'longitude']).plot(hue='depth')"
   ]
  },
  {
   "cell_type": "markdown",
   "metadata": {},
   "source": [
    "Or a running mean:"
   ]
  },
  {
   "cell_type": "code",
   "execution_count": null,
   "metadata": {},
   "outputs": [],
   "source": [
    "data.salinity_mean.sel(depth=[0, 20, 200]).mean('longitude').rolling(latitude=10, center=True).mean().plot(hue='depth')"
   ]
  },
  {
   "cell_type": "markdown",
   "metadata": {},
   "source": [
    "In the idea of keeping a single idea writable in a single line, `dataset`s and `DataArray`s provide the useful `.pipe()` method allowing apply a function on itself.\n",
    "\n",
    "For example, this could be useful for a unit transformation, when you don't want to create a new array just for this."
   ]
  },
  {
   "cell_type": "code",
   "execution_count": null,
   "metadata": {},
   "outputs": [],
   "source": [
    "data.thetao_mean.sel(latitude=-60).pipe(lambda x: x + 273.15).plot(y='depth', yincrease=False,\n",
    "                                                                   center=273.15, robust=True,\n",
    "                                                                   cbar_kwargs={'label':r'$\\overline{\\theta}$ [K]'})\n",
    "# Equivalent to\n",
    "# theta_kelvin = data.thetao_change.sel(longitude=200) + 273.15\n",
    "# theta_kelvin.plot(...)"
   ]
  },
  {
   "cell_type": "markdown",
   "metadata": {},
   "source": [
    "And many more. Very useful can be the `.interp()` and `.interpolate_na()` methodes to interpolate to new coordinates (needs `scipy` installed). Not showns here but good examples are available in [the documentation](http://xarray.pydata.org/en/stable/interpolation.html)\n",
    "\n",
    "### Combining and adding variables\n",
    "\n",
    "We use this dumb linear EOS to compute our mean potential density:\n",
    "\n",
    "\\begin{equation}\n",
    "    \\sigma = \\sigma_0\\left( 1 - \\alpha (T - T_0) + \\beta (S - S_0)\\right)\n",
    "\\end{equation}\n",
    "\n",
    "With $\\sigma_0 = 1028$ kg/m³, $\\alpha = 2\\times 10^{-4}$ K$^{-1}$, $T_0 = 10$°C, $\\beta = 7\\times 10^{-4}$ and $S_0 = 35$ g/kg."
   ]
  },
  {
   "cell_type": "code",
   "execution_count": null,
   "metadata": {},
   "outputs": [],
   "source": [
    "fake_sigma = 1028 * (1 - 2e-4 * (data.thetao_mean - 10) + 7e-4 * (data.salinity_mean - 35))"
   ]
  },
  {
   "cell_type": "code",
   "execution_count": null,
   "metadata": {},
   "outputs": [],
   "source": [
    "fake_sigma"
   ]
  },
  {
   "cell_type": "code",
   "execution_count": null,
   "metadata": {},
   "outputs": [],
   "source": [
    "fake_sigma.attrs.update(units='kg/m³', long_name='Dumb potential density')\n",
    "fake_sigma"
   ]
  },
  {
   "cell_type": "code",
   "execution_count": null,
   "metadata": {},
   "outputs": [],
   "source": [
    "fake_sigma.sel(latitude=[-70, 0, 70]).mean('longitude').plot(y='depth', yincrease=False, hue='latitude')"
   ]
  },
  {
   "cell_type": "markdown",
   "metadata": {},
   "source": [
    "In xArray, datasets are non-mutable, meaning you normally cannot modify it inplace. Most methods return copies and so we usually reassign to the same variable name."
   ]
  },
  {
   "cell_type": "code",
   "execution_count": null,
   "metadata": {},
   "outputs": [],
   "source": [
    "data = data.assign(sigma=fake_sigma)"
   ]
  },
  {
   "cell_type": "code",
   "execution_count": null,
   "metadata": {},
   "outputs": [],
   "source": [
    "data.to_netcdf('Ocean_changes_with_density.nc')"
   ]
  },
  {
   "cell_type": "code",
   "execution_count": null,
   "metadata": {},
   "outputs": [],
   "source": [
    "!ls -alh *.nc"
   ]
  },
  {
   "cell_type": "markdown",
   "metadata": {},
   "source": [
    "## Exercices\n",
    "\n",
    "### 1.\n",
    "Show the meridional mean salinity change of the southern ocean, but only where the temperature change was negative. (Let's define the Southern Ocean as everything below 40°S)"
   ]
  },
  {
   "cell_type": "code",
   "execution_count": null,
   "metadata": {},
   "outputs": [],
   "source": []
  },
  {
   "cell_type": "markdown",
   "metadata": {},
   "source": [
    "## Bonus One : Maps\n",
    "\n",
    "xArray integrates correctly with Python's main mapping package : [Cartopy](https://scitools.org.uk/cartopy/).\n",
    "Cartopy is the Phenix that remerged from the defunct basemap. It is used seemingly the same way and is fully integrated to matplotlib.\n",
    "\n",
    "It's not installed with the default anaconda, so we risk our system integrity and run:"
   ]
  },
  {
   "cell_type": "code",
   "execution_count": null,
   "metadata": {},
   "outputs": [],
   "source": [
    "#! conda install -c conda-forge cartopy"
   ]
  },
  {
   "cell_type": "code",
   "execution_count": null,
   "metadata": {},
   "outputs": [],
   "source": [
    "import cartopy.crs as ccrs"
   ]
  },
  {
   "cell_type": "markdown",
   "metadata": {},
   "source": [
    "Cartopy adds a \"projection\" to your classic Matplotlib axes and ask for \"transform\"s to be able to plot data.\n",
    "\n",
    "Because we are heartless heretics, we will use Mercator:"
   ]
  },
  {
   "cell_type": "code",
   "execution_count": null,
   "metadata": {},
   "outputs": [],
   "source": [
    "fig, ax = plt.subplots(subplot_kw={'projection':ccrs.Mercator(min_latitude=-70, max_latitude=70)},\n",
    "                       figsize=(15, 6))\n",
    "data.salinity_change.isel(time=0, depth=0).plot.contourf(ax=ax, transform=ccrs.PlateCarree(), robust=True)\n",
    "#data.thetao_change.isel(time=0, depth=0).plot.contour(ax=ax, transform=ccrs.PlateCarree(), robust=True, cmap=plt.cm.BrBG)\n",
    "ax.coastlines()"
   ]
  },
  {
   "cell_type": "markdown",
   "metadata": {},
   "source": [
    "## Bonus Two : Parallel and memory-safe computing\n",
    "\n",
    "Here we use dask, the under-the-hood friend of xArray, to do operations in parallel. Or, even more interestingly, on datasets larger than what our RAM allows.\n",
    "\n",
    "When you open a multi-file dataset with xArray, it uses dask by default. Instead of reading in all values of all variables, it only reads the metadata and stores the information in dask arrays lazily. Meaning, the values will only be read from the file if you need them. By default, each different file is stored in a different \"chunk\", but this behavior can be modified and the data chunked at will.\n",
    "\n",
    "Furthermore, when computing things, the process is done chunk by chunk. So you only need enough ram to store one chunk. And it can do operations on more than one chunk at a time!"
   ]
  },
  {
   "cell_type": "code",
   "execution_count": null,
   "metadata": {},
   "outputs": [],
   "source": [
    "#! conda install dask"
   ]
  },
  {
   "cell_type": "code",
   "execution_count": null,
   "metadata": {},
   "outputs": [],
   "source": [
    "from dask.diagnostics import ProgressBar"
   ]
  },
  {
   "cell_type": "code",
   "execution_count": null,
   "metadata": {},
   "outputs": [],
   "source": [
    "d = xr.open_mfdataset('so_Omon_ORAreanalysis_ORAS4*')\n",
    "d"
   ]
  },
  {
   "cell_type": "code",
   "execution_count": null,
   "metadata": {},
   "outputs": [],
   "source": [
    "%time\n",
    "a = d.so.rolling(time=3, center=True).construct('roll').dot(xr.DataArray([0.25, 0.5, 0.25], name='weights', dims=['roll'])).mean('lon')"
   ]
  },
  {
   "cell_type": "code",
   "execution_count": null,
   "metadata": {},
   "outputs": [],
   "source": [
    "with ProgressBar():\n",
    "    out = a.compute()"
   ]
  },
  {
   "cell_type": "code",
   "execution_count": null,
   "metadata": {},
   "outputs": [],
   "source": [
    "out.sel(time='1985-05').plot(robust=True, yincrease=False)"
   ]
  },
  {
   "cell_type": "code",
   "execution_count": null,
   "metadata": {},
   "outputs": [],
   "source": []
  },
  {
   "cell_type": "code",
   "execution_count": null,
   "metadata": {},
   "outputs": [],
   "source": []
  }
 ],
 "metadata": {
  "kernelspec": {
   "display_name": "Python 3",
   "language": "python",
   "name": "python3"
  },
  "language_info": {
   "codemirror_mode": {
    "name": "ipython",
    "version": 3
   },
   "file_extension": ".py",
   "mimetype": "text/x-python",
   "name": "python",
   "nbconvert_exporter": "python",
   "pygments_lexer": "ipython3",
   "version": "3.7.3"
  }
 },
 "nbformat": 4,
 "nbformat_minor": 2
}
